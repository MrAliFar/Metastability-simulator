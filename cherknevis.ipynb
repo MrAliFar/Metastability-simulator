{
 "cells": [
  {
   "cell_type": "code",
   "execution_count": 7,
   "metadata": {},
   "outputs": [
    {
     "ename": "TypeError",
     "evalue": "'int' object is not callable",
     "output_type": "error",
     "traceback": [
      "\u001b[0;31m---------------------------------------------------------------------------\u001b[0m",
      "\u001b[0;31mTypeError\u001b[0m                                 Traceback (most recent call last)",
      "\u001b[1;32m/Users/amirali/Documents/Research/Metastable failures/Simulator/cherknevis.ipynb Cell 1\u001b[0m in \u001b[0;36m1\n\u001b[1;32m     <a href='vscode-notebook-cell:/Users/amirali/Documents/Research/Metastable%20failures/Simulator/cherknevis.ipynb#W0sZmlsZQ%3D%3D?line=9'>10</a>\u001b[0m a\u001b[39m.\u001b[39mput(\u001b[39m2\u001b[39m)\n\u001b[1;32m     <a href='vscode-notebook-cell:/Users/amirali/Documents/Research/Metastable%20failures/Simulator/cherknevis.ipynb#W0sZmlsZQ%3D%3D?line=10'>11</a>\u001b[0m a\u001b[39m.\u001b[39mqsize()\n\u001b[0;32m---> <a href='vscode-notebook-cell:/Users/amirali/Documents/Research/Metastable%20failures/Simulator/cherknevis.ipynb#W0sZmlsZQ%3D%3D?line=11'>12</a>\u001b[0m a\u001b[39m.\u001b[39mmaxsize()\n",
      "\u001b[0;31mTypeError\u001b[0m: 'int' object is not callable"
     ]
    }
   ],
   "source": [
    "from queue import Queue\n",
    "\n",
    "class b:\n",
    "    def __init__(self):\n",
    "        b.c = 1\n",
    "\n",
    "a = Queue(4)\n",
    "d = b()\n",
    "a.put(1)\n",
    "a.put(2)\n",
    "a.qsize()\n",
    "a.maxsize\n",
    "\n"
   ]
  }
 ],
 "metadata": {
  "kernelspec": {
   "display_name": "Python 3",
   "language": "python",
   "name": "python3"
  },
  "language_info": {
   "codemirror_mode": {
    "name": "ipython",
    "version": 3
   },
   "file_extension": ".py",
   "mimetype": "text/x-python",
   "name": "python",
   "nbconvert_exporter": "python",
   "pygments_lexer": "ipython3",
   "version": "3.10.10"
  },
  "orig_nbformat": 4,
  "vscode": {
   "interpreter": {
    "hash": "bd385fe162c5ca0c84973b7dd5c518456272446b2b64e67c2a69f949ca7a1754"
   }
  }
 },
 "nbformat": 4,
 "nbformat_minor": 2
}
